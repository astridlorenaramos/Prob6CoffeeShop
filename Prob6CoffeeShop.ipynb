{
 "cells": [
  {
   "cell_type": "code",
   "execution_count": 4,
   "id": "222c67a2-0a40-4e04-a0f6-48e1fe7c9f46",
   "metadata": {},
   "outputs": [
    {
     "name": "stdout",
     "output_type": "stream",
     "text": [
      "Mean:  992.9843999999998\n",
      "Median:  989.4\n",
      "StaDev:  279.02257946739724\n",
      "Top 5 dates revenue:\n",
      "2025-01-14 1581.91\n",
      "2025-01-31 1543.54\n",
      "2025-02-06 1467.1100000000001\n",
      "2025-02-02 1419.94\n",
      "2025-01-08 1365.1399999999999\n",
      "Increse transactions: [196.56 185.76 101.52 200.88 163.08 108.   196.56 217.08 166.32 180.36]\n",
      "Reduction avg ticket: [7.0395 5.4815 6.574  4.921  5.4055 6.5645 6.973  6.5455 6.327  6.1845]\n",
      "Net revenue change over first 10 days: 10368.33854\n",
      "Days that had higher revenue than the overall median revenue: 25\n"
     ]
    }
   ],
   "source": [
    "import numpy as np\n",
    "\n",
    "data = np.genfromtxt('coffee_shop_50.csv', delimiter=',', names=True, dtype=None, encoding='utf-8')\n",
    "\n",
    "tx = data['transactions']\n",
    "avg = data['avg_ticket']\n",
    "refunds = data['refunds']\n",
    "\n",
    "revenue = tx * avg - refunds\n",
    "\n",
    "# calculate mean, mediand and standard deviation of revenue\n",
    "mean=np.mean(revenue)\n",
    "median=np.median(revenue)\n",
    "std=np.std(revenue)\n",
    "\n",
    "print(\"Mean: \", mean)\n",
    "print(\"Median: \", median)\n",
    "print(\"StaDev: \", std)\n",
    "\n",
    "#top 5 revenue\n",
    "\n",
    "top_5=np.argsort(revenue)[-5:][::-1] #sort number from lower to higher, slice the last 5 and order those 5 from high to low\n",
    "top_5_dates=data['date'][top_5] #take the date of the picked indexes \n",
    "top_5_revenues=revenue[top_5] #take the revenue of the picked indexes \n",
    "\n",
    "#print the result from the picked indexes (date and revenue), zip helps to combine 2 lists\n",
    "print(\"Top 5 dates revenue:\")\n",
    "for date, rev in zip(top_5_dates, top_5_revenues):\n",
    "    print(date, rev)\n",
    "\n",
    "#Broadcasting scenario: A 10-day promo increases foot traffic by +8% transactions but reduces average ticket by −5% on those same days.\n",
    "\n",
    "#increase 8% to 10 first days \n",
    "\n",
    "tx_promo=tx[:10]*1.08\n",
    "\n",
    "print(\"Increse transactions:\",tx_promo)\n",
    "\n",
    "#reduce 5% on ticket average in same 10 days\n",
    "\n",
    "avg_promo=avg[:10]*0.95\n",
    "\n",
    "print(\"Reduction avg ticket:\",avg_promo)\n",
    "\n",
    "#Recompute revenue for those days and report the net revenue change over those 10 days\n",
    "\n",
    "new_revenue= tx_promo*avg_promo-refunds[0:10]\n",
    "net_rev_change=np.sum(new_revenue-refunds[0:10])\n",
    "\n",
    "print(\"Net revenue change over first 10 days:\",net_rev_change)\n",
    "\n",
    "#Count how many days had revenue ≥ the overall median revenue.\n",
    "\n",
    "high_rev_days= revenue>=median\n",
    "count_high_rev_days= np.sum(high_rev_days)\n",
    "\n",
    "print(\"Days that had higher revenue than the overall median revenue:\",count_high_rev_days)\n",
    "\n",
    "\n",
    "\n",
    "\n",
    "\n"
   ]
  },
  {
   "cell_type": "code",
   "execution_count": null,
   "id": "0e3213a9-291e-44b8-a0aa-bbb56c005cfc",
   "metadata": {},
   "outputs": [],
   "source": []
  }
 ],
 "metadata": {
  "kernelspec": {
   "display_name": "Python 3 (ipykernel)",
   "language": "python",
   "name": "python3"
  },
  "language_info": {
   "codemirror_mode": {
    "name": "ipython",
    "version": 3
   },
   "file_extension": ".py",
   "mimetype": "text/x-python",
   "name": "python",
   "nbconvert_exporter": "python",
   "pygments_lexer": "ipython3",
   "version": "3.13.5"
  }
 },
 "nbformat": 4,
 "nbformat_minor": 5
}
